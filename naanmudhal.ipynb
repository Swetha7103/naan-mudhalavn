{
  "nbformat": 4,
  "nbformat_minor": 0,
  "metadata": {
    "colab": {
      "provenance": [],
      "authorship_tag": "ABX9TyMGBXmyB3PVqCEwpm7tg8rv",
      "include_colab_link": true
    },
    "kernelspec": {
      "name": "python3",
      "display_name": "Python 3"
    },
    "language_info": {
      "name": "python"
    }
  },
  "cells": [
    {
      "cell_type": "markdown",
      "metadata": {
        "id": "view-in-github",
        "colab_type": "text"
      },
      "source": [
        "<a href=\"https://colab.research.google.com/github/Swetha7103/naan-mudhalavn/blob/nm/naanmudhal.ipynb\" target=\"_parent\"><img src=\"https://colab.research.google.com/assets/colab-badge.svg\" alt=\"Open In Colab\"/></a>"
      ]
    },
    {
      "cell_type": "code",
      "source": [
        "from google.colab import drive\n",
        "drive.mount('/content/drive')"
      ],
      "metadata": {
        "colab": {
          "base_uri": "https://localhost:8080/"
        },
        "id": "bd4nFBlYzOjY",
        "outputId": "6ca199e6-66af-46a1-fa17-23a73a33f15c"
      },
      "execution_count": null,
      "outputs": [
        {
          "output_type": "stream",
          "name": "stdout",
          "text": [
            "Mounted at /content/drive\n"
          ]
        }
      ]
    },
    {
      "cell_type": "code",
      "source": [],
      "metadata": {
        "colab": {
          "base_uri": "https://localhost:8080/"
        },
        "id": "wW3IRFAOz1UM",
        "outputId": "00085a11-e6aa-4b0e-f4e4-4b1d9e1c85a9"
      },
      "execution_count": null,
      "outputs": [
        {
          "output_type": "stream",
          "name": "stdout",
          "text": [
            "<class 'pandas.core.frame.DataFrame'>\n",
            "RangeIndex: 361 entries, 0 to 360\n",
            "Data columns (total 25 columns):\n",
            " #   Column                        Non-Null Count  Dtype  \n",
            "---  ------                        --------------  -----  \n",
            " 0   Month                         361 non-null    object \n",
            " 1   Coarse wool Price             327 non-null    object \n",
            " 2   Coarse wool price % Change    327 non-null    object \n",
            " 3   Copra Price                   339 non-null    object \n",
            " 4   Copra price % Change          339 non-null    object \n",
            " 5   Cotton Price                  361 non-null    float64\n",
            " 6   Cotton price % Change         361 non-null    object \n",
            " 7   Fine wool Price               327 non-null    object \n",
            " 8   Fine wool price % Change      327 non-null    object \n",
            " 9   Hard log Price                361 non-null    float64\n",
            " 10  Hard log price % Change       361 non-null    object \n",
            " 11  Hard sawnwood Price           327 non-null    float64\n",
            " 12  Hard sawnwood price % Change  327 non-null    object \n",
            " 13  Hide Price                    327 non-null    float64\n",
            " 14  Hide price % change           327 non-null    object \n",
            " 15  Plywood Price                 361 non-null    float64\n",
            " 16  Plywood price % Change        361 non-null    object \n",
            " 17  Rubber Price                  361 non-null    float64\n",
            " 18  Rubber price % Change         361 non-null    object \n",
            " 19  Softlog Price                 327 non-null    float64\n",
            " 20  Softlog price % Change        327 non-null    object \n",
            " 21  Soft sawnwood Price           327 non-null    float64\n",
            " 22  Soft sawnwood price % Change  327 non-null    object \n",
            " 23  Wood pulp Price               360 non-null    float64\n",
            " 24  Wood pulp price % Change      360 non-null    object \n",
            "dtypes: float64(9), object(16)\n",
            "memory usage: 70.6+ KB\n"
          ]
        }
      ]
    },
    {
      "cell_type": "code",
      "source": [],
      "metadata": {
        "colab": {
          "base_uri": "https://localhost:8080/"
        },
        "id": "mludGKd0z6Xh",
        "outputId": "b4cae90f-09b5-4a06-830e-82c2c275b8ab"
      },
      "execution_count": null,
      "outputs": [
        {
          "output_type": "execute_result",
          "data": {
            "text/plain": [
              "Index(['Month', 'Coarse wool Price', 'Coarse wool price % Change',\n",
              "       'Copra Price', 'Copra price % Change', 'Cotton Price',\n",
              "       'Cotton price % Change', 'Fine wool Price', 'Fine wool price % Change',\n",
              "       'Hard log Price', 'Hard log price % Change', 'Hard sawnwood Price',\n",
              "       'Hard sawnwood price % Change', 'Hide Price', 'Hide price % change',\n",
              "       'Plywood Price', 'Plywood price % Change', 'Rubber Price',\n",
              "       'Rubber price % Change', 'Softlog Price', 'Softlog price % Change',\n",
              "       'Soft sawnwood Price', 'Soft sawnwood price % Change',\n",
              "       'Wood pulp Price', 'Wood pulp price % Change'],\n",
              "      dtype='object')"
            ]
          },
          "metadata": {},
          "execution_count": 5
        }
      ]
    },
    {
      "cell_type": "code",
      "source": [],
      "metadata": {
        "colab": {
          "base_uri": "https://localhost:8080/"
        },
        "id": "X_ndP3lvz_IW",
        "outputId": "e73e3f6c-0249-47e2-d35d-ff7c2c38f664"
      },
      "execution_count": null,
      "outputs": [
        {
          "output_type": "execute_result",
          "data": {
            "text/plain": [
              "Month                            0\n",
              "Coarse wool Price               34\n",
              "Coarse wool price % Change      34\n",
              "Copra Price                     22\n",
              "Copra price % Change            22\n",
              "Cotton Price                     0\n",
              "Cotton price % Change            0\n",
              "Fine wool Price                 34\n",
              "Fine wool price % Change        34\n",
              "Hard log Price                   0\n",
              "Hard log price % Change          0\n",
              "Hard sawnwood Price             34\n",
              "Hard sawnwood price % Change    34\n",
              "Hide Price                      34\n",
              "Hide price % change             34\n",
              "Plywood Price                    0\n",
              "Plywood price % Change           0\n",
              "Rubber Price                     0\n",
              "Rubber price % Change            0\n",
              "Softlog Price                   34\n",
              "Softlog price % Change          34\n",
              "Soft sawnwood Price             34\n",
              "Soft sawnwood price % Change    34\n",
              "Wood pulp Price                  1\n",
              "Wood pulp price % Change         1\n",
              "dtype: int64"
            ]
          },
          "metadata": {},
          "execution_count": 6
        }
      ]
    },
    {
      "cell_type": "code",
      "source": [],
      "metadata": {
        "colab": {
          "base_uri": "https://localhost:8080/",
          "height": 180
        },
        "id": "W5kVEwmJ0bBJ",
        "outputId": "6539c51a-3df2-4307-8057-9f54e89751d3"
      },
      "execution_count": null,
      "outputs": [
        {
          "output_type": "error",
          "ename": "KeyError",
          "evalue": "\"'Material' column not found in the dataframe.\"",
          "traceback": [
            "\u001b[0;31m---------------------------------------------------------------------------\u001b[0m",
            "\u001b[0;31mKeyError\u001b[0m                                  Traceback (most recent call last)",
            "\u001b[0;32m<ipython-input-8-3cb20073cb69>\u001b[0m in \u001b[0;36m<cell line: 2>\u001b[0;34m()\u001b[0m\n\u001b[1;32m      1\u001b[0m \u001b[0;31m# Check if the 'Material' column exists\u001b[0m\u001b[0;34m\u001b[0m\u001b[0;34m\u001b[0m\u001b[0m\n\u001b[1;32m      2\u001b[0m \u001b[0;32mif\u001b[0m \u001b[0;34m'Material'\u001b[0m \u001b[0;32mnot\u001b[0m \u001b[0;32min\u001b[0m \u001b[0mdata\u001b[0m\u001b[0;34m.\u001b[0m\u001b[0mcolumns\u001b[0m\u001b[0;34m:\u001b[0m\u001b[0;34m\u001b[0m\u001b[0;34m\u001b[0m\u001b[0m\n\u001b[0;32m----> 3\u001b[0;31m    \u001b[0;32mraise\u001b[0m \u001b[0mKeyError\u001b[0m\u001b[0;34m(\u001b[0m\u001b[0;34m\"'Material' column not found in the dataframe.\"\u001b[0m\u001b[0;34m)\u001b[0m\u001b[0;34m\u001b[0m\u001b[0;34m\u001b[0m\u001b[0m\n\u001b[0m",
            "\u001b[0;31mKeyError\u001b[0m: \"'Material' column not found in the dataframe.\""
          ]
        }
      ]
    },
    {
      "cell_type": "code",
      "source": [],
      "metadata": {
        "id": "zq-tmJNn0bG5"
      },
      "execution_count": null,
      "outputs": []
    },
    {
      "cell_type": "code",
      "source": [
        "import pandas as pd\n",
        "import numpy as np\n",
        "import seaborn as sns\n",
        "import matplotlib.pyplot as plt\n",
        "\n",
        "# Load the dataset\n",
        "data = pd.read_csv('/content/drive/MyDrive/nm/agricultural_raw_material.csv')\n",
        "\n",
        "# Display the first few rows of the dataset\n",
        "print(\"Dataset Preview:\")\n",
        "print(data.head())\n",
        "\n",
        "# EDA\n",
        "print(\"\\nExploratory Data Analysis:\")\n",
        "print(\"Summary Statistics:\")\n",
        "print(data.describe())\n",
        "\n",
        "# Check if the 'Material' column exists\n",
        "if 'Material' not in data.columns:\n",
        "    raise KeyError(\"'Material' column not found in the dataframe.\")\n",
        "\n",
        "# Identify high-range and low-range raw materials\n",
        "high_range_materials = data[data['Material'] > data['Material'].quantile(0.75)]['Material']\n",
        "low_range_materials = data[data['Material'] < data['Material'].quantile(0.25)]['Material']\n",
        "print(\"\\nHigh-range Raw Materials:\")\n",
        "print(high_range_materials.unique())\n",
        "print(\"\\nLow-range Raw Materials:\")\n",
        "print(low_range_materials.unique())\n",
        "\n",
        "# Calculate percentage change\n",
        "data['%Change'] = data.groupby('Material')['Price'].pct_change()\n",
        "\n",
        "# Identify high and low percentage change materials\n",
        "high_change_materials = data[data['%Change'] > data['%Change'].quantile(0.75)]['Material']\n",
        "low_change_materials = data[data['%Change'] < data['%Change'].quantile(0.25)]['Material']\n",
        "\n",
        "print(\"\\nHigh %Change Materials:\")\n",
        "print(high_change_materials.unique())\n",
        "print(\"\\nLow %Change Materials:\")\n",
        "print(low_change_materials.unique())\n",
        "\n",
        "# Range of prices changed over the years\n",
        "price_range = data.groupby('Material')['Price'].agg(lambda x: x.max() - x.min())\n",
        "print(\"\\nRange of Prices Changed Over the Years:\")\n",
        "print(price_range)\n",
        "\n",
        "# Map correlation between materials using a heatmap\n",
        "correlation_matrix = data.pivot_table(index='Material', columns='Year', values='Price')\n",
        "plt.figure(figsize=(10, 8))\n",
        "sns.heatmap(correlation_matrix.corr(), annot=True, cmap='coolwarm', fmt=\".2f\")\n",
        "plt.title('Correlation Between Materials')\n",
        "plt.show()\n"
      ],
      "metadata": {
        "colab": {
          "base_uri": "https://localhost:8080/",
          "height": 1000
        },
        "id": "K6KxEkwtzXE-",
        "outputId": "6ecce8cc-515e-41c9-a638-ce56431f1365"
      },
      "execution_count": null,
      "outputs": [
        {
          "output_type": "stream",
          "name": "stdout",
          "text": [
            "Dataset Preview:\n",
            "    Month Coarse wool Price Coarse wool price % Change Copra Price  \\\n",
            "0  Apr-90            482.34                          -         236   \n",
            "1  May-90            447.26                     -7.27%         234   \n",
            "2  Jun-90            440.99                     -1.40%         216   \n",
            "3  Jul-90            418.44                     -5.11%         205   \n",
            "4  Aug-90            418.44                      0.00%         198   \n",
            "\n",
            "  Copra price % Change  Cotton Price Cotton price % Change Fine wool Price  \\\n",
            "0                    -          1.83                     -        1,071.63   \n",
            "1               -0.85%          1.89                 3.28%        1,057.18   \n",
            "2               -7.69%          1.99                 5.29%          898.24   \n",
            "3               -5.09%          2.01                 1.01%          895.83   \n",
            "4               -3.41%          1.79               -10.95%          951.22   \n",
            "\n",
            "  Fine wool price % Change  Hard log Price  ... Plywood Price  \\\n",
            "0                        -          161.20  ...        312.36   \n",
            "1                   -1.35%          172.86  ...        350.12   \n",
            "2                  -15.03%          181.67  ...        373.94   \n",
            "3                   -0.27%          187.96  ...        378.48   \n",
            "4                    6.18%          186.13  ...        364.60   \n",
            "\n",
            "   Plywood price % Change Rubber Price  Rubber price % Change Softlog Price  \\\n",
            "0                       -         0.84                      -        120.66   \n",
            "1                  12.09%         0.85                  1.19%        124.28   \n",
            "2                   6.80%         0.85                  0.00%        129.45   \n",
            "3                   1.21%         0.86                  1.18%        124.23   \n",
            "4                  -3.67%         0.88                  2.33%        129.70   \n",
            "\n",
            "   Softlog price % Change Soft sawnwood Price  Soft sawnwood price % Change  \\\n",
            "0                       -              218.76                             -   \n",
            "1                   3.00%              213.00                        -2.63%   \n",
            "2                   4.16%              200.00                        -6.10%   \n",
            "3                  -4.03%              210.05                         5.03%   \n",
            "4                   4.40%              208.30                        -0.83%   \n",
            "\n",
            "  Wood pulp Price  Wood pulp price % Change  \n",
            "0          829.29                         -  \n",
            "1          842.51                     1.59%  \n",
            "2          831.35                    -1.32%  \n",
            "3          798.83                    -3.91%  \n",
            "4          818.74                     2.49%  \n",
            "\n",
            "[5 rows x 25 columns]\n",
            "\n",
            "Exploratory Data Analysis:\n",
            "Summary Statistics:\n",
            "       Cotton Price  Hard log Price  Hard sawnwood Price  Hide Price  \\\n",
            "count    361.000000      361.000000           327.000000  327.000000   \n",
            "mean       1.640000      251.034072           707.950367   78.566667   \n",
            "std        0.513319       65.628406           144.563241   13.690623   \n",
            "min        0.820000      133.280000           413.370000   28.590000   \n",
            "25%        1.290000      197.960000           573.470000   69.495000   \n",
            "50%        1.600000      253.010000           728.710000   77.250000   \n",
            "75%        1.850000      282.970000           831.635000   86.000000   \n",
            "max        5.060000      520.810000           973.600000  114.630000   \n",
            "\n",
            "       Plywood Price  Rubber Price  Softlog Price  Soft sawnwood Price  \\\n",
            "count     361.000000    361.000000     327.000000           327.000000   \n",
            "mean      508.216122      1.656427     164.527462           291.061713   \n",
            "std        89.274718      1.017086      25.596308            34.113959   \n",
            "min       312.360000      0.490000     119.350000           183.610000   \n",
            "25%       442.540000      0.860000     145.970000           277.590000   \n",
            "50%       505.040000      1.440000     160.370000           294.960000   \n",
            "75%       570.790000      2.060000     180.210000           310.865000   \n",
            "max       751.810000      6.260000     259.970000           372.600000   \n",
            "\n",
            "       Wood pulp Price  \n",
            "count       360.000000  \n",
            "mean        696.670889  \n",
            "std         161.156936  \n",
            "min         384.000000  \n",
            "25%         549.777500  \n",
            "50%         693.580000  \n",
            "75%         875.000000  \n",
            "max         966.490000  \n"
          ]
        },
        {
          "output_type": "error",
          "ename": "KeyError",
          "evalue": "'Material'",
          "traceback": [
            "\u001b[0;31m---------------------------------------------------------------------------\u001b[0m",
            "\u001b[0;31mKeyError\u001b[0m                                  Traceback (most recent call last)",
            "\u001b[0;32m/usr/local/lib/python3.10/dist-packages/pandas/core/indexes/base.py\u001b[0m in \u001b[0;36mget_loc\u001b[0;34m(self, key)\u001b[0m\n\u001b[1;32m   3652\u001b[0m         \u001b[0;32mtry\u001b[0m\u001b[0;34m:\u001b[0m\u001b[0;34m\u001b[0m\u001b[0;34m\u001b[0m\u001b[0m\n\u001b[0;32m-> 3653\u001b[0;31m             \u001b[0;32mreturn\u001b[0m \u001b[0mself\u001b[0m\u001b[0;34m.\u001b[0m\u001b[0m_engine\u001b[0m\u001b[0;34m.\u001b[0m\u001b[0mget_loc\u001b[0m\u001b[0;34m(\u001b[0m\u001b[0mcasted_key\u001b[0m\u001b[0;34m)\u001b[0m\u001b[0;34m\u001b[0m\u001b[0;34m\u001b[0m\u001b[0m\n\u001b[0m\u001b[1;32m   3654\u001b[0m         \u001b[0;32mexcept\u001b[0m \u001b[0mKeyError\u001b[0m \u001b[0;32mas\u001b[0m \u001b[0merr\u001b[0m\u001b[0;34m:\u001b[0m\u001b[0;34m\u001b[0m\u001b[0;34m\u001b[0m\u001b[0m\n",
            "\u001b[0;32m/usr/local/lib/python3.10/dist-packages/pandas/_libs/index.pyx\u001b[0m in \u001b[0;36mpandas._libs.index.IndexEngine.get_loc\u001b[0;34m()\u001b[0m\n",
            "\u001b[0;32m/usr/local/lib/python3.10/dist-packages/pandas/_libs/index.pyx\u001b[0m in \u001b[0;36mpandas._libs.index.IndexEngine.get_loc\u001b[0;34m()\u001b[0m\n",
            "\u001b[0;32mpandas/_libs/hashtable_class_helper.pxi\u001b[0m in \u001b[0;36mpandas._libs.hashtable.PyObjectHashTable.get_item\u001b[0;34m()\u001b[0m\n",
            "\u001b[0;32mpandas/_libs/hashtable_class_helper.pxi\u001b[0m in \u001b[0;36mpandas._libs.hashtable.PyObjectHashTable.get_item\u001b[0;34m()\u001b[0m\n",
            "\u001b[0;31mKeyError\u001b[0m: 'Material'",
            "\nThe above exception was the direct cause of the following exception:\n",
            "\u001b[0;31mKeyError\u001b[0m                                  Traceback (most recent call last)",
            "\u001b[0;32m<ipython-input-7-aa64b0f287e3>\u001b[0m in \u001b[0;36m<cell line: 19>\u001b[0;34m()\u001b[0m\n\u001b[1;32m     17\u001b[0m \u001b[0;34m\u001b[0m\u001b[0m\n\u001b[1;32m     18\u001b[0m \u001b[0;31m# Identify high-range and low-range raw materials\u001b[0m\u001b[0;34m\u001b[0m\u001b[0;34m\u001b[0m\u001b[0m\n\u001b[0;32m---> 19\u001b[0;31m \u001b[0mhigh_range_materials\u001b[0m \u001b[0;34m=\u001b[0m \u001b[0mdata\u001b[0m\u001b[0;34m[\u001b[0m\u001b[0mdata\u001b[0m\u001b[0;34m[\u001b[0m\u001b[0;34m'Material'\u001b[0m\u001b[0;34m]\u001b[0m \u001b[0;34m>\u001b[0m \u001b[0mdata\u001b[0m\u001b[0;34m[\u001b[0m\u001b[0;34m'Material'\u001b[0m\u001b[0;34m]\u001b[0m\u001b[0;34m.\u001b[0m\u001b[0mquantile\u001b[0m\u001b[0;34m(\u001b[0m\u001b[0;36m0.75\u001b[0m\u001b[0;34m)\u001b[0m\u001b[0;34m]\u001b[0m\u001b[0;34m[\u001b[0m\u001b[0;34m'Material'\u001b[0m\u001b[0;34m]\u001b[0m\u001b[0;34m\u001b[0m\u001b[0;34m\u001b[0m\u001b[0m\n\u001b[0m\u001b[1;32m     20\u001b[0m \u001b[0mlow_range_materials\u001b[0m \u001b[0;34m=\u001b[0m \u001b[0mdata\u001b[0m\u001b[0;34m[\u001b[0m\u001b[0mdata\u001b[0m\u001b[0;34m[\u001b[0m\u001b[0;34m'Material'\u001b[0m\u001b[0;34m]\u001b[0m \u001b[0;34m<\u001b[0m \u001b[0mdata\u001b[0m\u001b[0;34m[\u001b[0m\u001b[0;34m'Material'\u001b[0m\u001b[0;34m]\u001b[0m\u001b[0;34m.\u001b[0m\u001b[0mquantile\u001b[0m\u001b[0;34m(\u001b[0m\u001b[0;36m0.25\u001b[0m\u001b[0;34m)\u001b[0m\u001b[0;34m]\u001b[0m\u001b[0;34m[\u001b[0m\u001b[0;34m'Material'\u001b[0m\u001b[0;34m]\u001b[0m\u001b[0;34m\u001b[0m\u001b[0;34m\u001b[0m\u001b[0m\n\u001b[1;32m     21\u001b[0m \u001b[0mprint\u001b[0m\u001b[0;34m(\u001b[0m\u001b[0;34m\"\\nHigh-range Raw Materials:\"\u001b[0m\u001b[0;34m)\u001b[0m\u001b[0;34m\u001b[0m\u001b[0;34m\u001b[0m\u001b[0m\n",
            "\u001b[0;32m/usr/local/lib/python3.10/dist-packages/pandas/core/frame.py\u001b[0m in \u001b[0;36m__getitem__\u001b[0;34m(self, key)\u001b[0m\n\u001b[1;32m   3759\u001b[0m             \u001b[0;32mif\u001b[0m \u001b[0mself\u001b[0m\u001b[0;34m.\u001b[0m\u001b[0mcolumns\u001b[0m\u001b[0;34m.\u001b[0m\u001b[0mnlevels\u001b[0m \u001b[0;34m>\u001b[0m \u001b[0;36m1\u001b[0m\u001b[0;34m:\u001b[0m\u001b[0;34m\u001b[0m\u001b[0;34m\u001b[0m\u001b[0m\n\u001b[1;32m   3760\u001b[0m                 \u001b[0;32mreturn\u001b[0m \u001b[0mself\u001b[0m\u001b[0;34m.\u001b[0m\u001b[0m_getitem_multilevel\u001b[0m\u001b[0;34m(\u001b[0m\u001b[0mkey\u001b[0m\u001b[0;34m)\u001b[0m\u001b[0;34m\u001b[0m\u001b[0;34m\u001b[0m\u001b[0m\n\u001b[0;32m-> 3761\u001b[0;31m             \u001b[0mindexer\u001b[0m \u001b[0;34m=\u001b[0m \u001b[0mself\u001b[0m\u001b[0;34m.\u001b[0m\u001b[0mcolumns\u001b[0m\u001b[0;34m.\u001b[0m\u001b[0mget_loc\u001b[0m\u001b[0;34m(\u001b[0m\u001b[0mkey\u001b[0m\u001b[0;34m)\u001b[0m\u001b[0;34m\u001b[0m\u001b[0;34m\u001b[0m\u001b[0m\n\u001b[0m\u001b[1;32m   3762\u001b[0m             \u001b[0;32mif\u001b[0m \u001b[0mis_integer\u001b[0m\u001b[0;34m(\u001b[0m\u001b[0mindexer\u001b[0m\u001b[0;34m)\u001b[0m\u001b[0;34m:\u001b[0m\u001b[0;34m\u001b[0m\u001b[0;34m\u001b[0m\u001b[0m\n\u001b[1;32m   3763\u001b[0m                 \u001b[0mindexer\u001b[0m \u001b[0;34m=\u001b[0m \u001b[0;34m[\u001b[0m\u001b[0mindexer\u001b[0m\u001b[0;34m]\u001b[0m\u001b[0;34m\u001b[0m\u001b[0;34m\u001b[0m\u001b[0m\n",
            "\u001b[0;32m/usr/local/lib/python3.10/dist-packages/pandas/core/indexes/base.py\u001b[0m in \u001b[0;36mget_loc\u001b[0;34m(self, key)\u001b[0m\n\u001b[1;32m   3653\u001b[0m             \u001b[0;32mreturn\u001b[0m \u001b[0mself\u001b[0m\u001b[0;34m.\u001b[0m\u001b[0m_engine\u001b[0m\u001b[0;34m.\u001b[0m\u001b[0mget_loc\u001b[0m\u001b[0;34m(\u001b[0m\u001b[0mcasted_key\u001b[0m\u001b[0;34m)\u001b[0m\u001b[0;34m\u001b[0m\u001b[0;34m\u001b[0m\u001b[0m\n\u001b[1;32m   3654\u001b[0m         \u001b[0;32mexcept\u001b[0m \u001b[0mKeyError\u001b[0m \u001b[0;32mas\u001b[0m \u001b[0merr\u001b[0m\u001b[0;34m:\u001b[0m\u001b[0;34m\u001b[0m\u001b[0;34m\u001b[0m\u001b[0m\n\u001b[0;32m-> 3655\u001b[0;31m             \u001b[0;32mraise\u001b[0m \u001b[0mKeyError\u001b[0m\u001b[0;34m(\u001b[0m\u001b[0mkey\u001b[0m\u001b[0;34m)\u001b[0m \u001b[0;32mfrom\u001b[0m \u001b[0merr\u001b[0m\u001b[0;34m\u001b[0m\u001b[0;34m\u001b[0m\u001b[0m\n\u001b[0m\u001b[1;32m   3656\u001b[0m         \u001b[0;32mexcept\u001b[0m \u001b[0mTypeError\u001b[0m\u001b[0;34m:\u001b[0m\u001b[0;34m\u001b[0m\u001b[0;34m\u001b[0m\u001b[0m\n\u001b[1;32m   3657\u001b[0m             \u001b[0;31m# If we have a listlike key, _check_indexing_error will raise\u001b[0m\u001b[0;34m\u001b[0m\u001b[0;34m\u001b[0m\u001b[0m\n",
            "\u001b[0;31mKeyError\u001b[0m: 'Material'"
          ]
        }
      ]
    }
  ]
}